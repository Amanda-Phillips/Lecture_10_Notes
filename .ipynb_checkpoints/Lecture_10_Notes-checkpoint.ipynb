{
 "cells": [
  {
   "cell_type": "markdown",
   "metadata": {},
   "source": [
    "## Working with Tweets\n",
    "#### Or literally any list of dictionaries or other nested data structure\n",
    "\n",
    "Here are some tweet texts. In a5, you'll have some functions that take in tweets, split them into lists of words, and those word lists will be stored in dictionaries. \n",
    "\n",
    "Sort of like this: "
   ]
  },
  {
   "cell_type": "code",
   "execution_count": 1,
   "metadata": {},
   "outputs": [],
   "source": [
    "tweets = [\n",
    "    {'words': ['this', 'is', 'my', 'first', 'tweet']},\n",
    "    {'words': ['did', 'you', 'hear', 'about', 'CardiB']},\n",
    "    {'words': ['OMG', 'yassssss']}\n",
    "]"
   ]
  },
  {
   "cell_type": "code",
   "execution_count": 2,
   "metadata": {},
   "outputs": [
    {
     "name": "stdout",
     "output_type": "stream",
     "text": [
      "{'words': ['this', 'is', 'my', 'first', 'tweet']}\n",
      "{'words': ['did', 'you', 'hear', 'about', 'CardiB']}\n",
      "{'words': ['OMG', 'yassssss']}\n"
     ]
    }
   ],
   "source": [
    "##Print every tweet in tweets\n",
    "for tweet in tweets: \n",
    "    print(tweet)"
   ]
  },
  {
   "cell_type": "markdown",
   "metadata": {},
   "source": [
    "#### The question here is how many words are in all my tweets. \n",
    "You know how to do this with a loop. \n",
    "\n",
    "Here, I loop over all the tweets and print the count of words in each tweet's word list using the built in `len()` function "
   ]
  },
  {
   "cell_type": "code",
   "execution_count": 3,
   "metadata": {},
   "outputs": [
    {
     "name": "stdout",
     "output_type": "stream",
     "text": [
      "5\n",
      "5\n",
      "2\n"
     ]
    }
   ],
   "source": [
    "for tweet in tweets: \n",
    "    print(len(tweet['words']))"
   ]
  },
  {
   "cell_type": "markdown",
   "metadata": {},
   "source": [
    "Excellent! My computer is computing!\n",
    "\n",
    "Now I just want to sum all of those individual counts into one count value. "
   ]
  },
  {
   "cell_type": "code",
   "execution_count": 4,
   "metadata": {},
   "outputs": [
    {
     "data": {
      "text/plain": [
       "12"
      ]
     },
     "execution_count": 4,
     "metadata": {},
     "output_type": "execute_result"
    }
   ],
   "source": [
    "count = 0\n",
    "for tweet in tweets: \n",
    "    count += len(tweet['words'])\n",
    "count"
   ]
  },
  {
   "cell_type": "markdown",
   "metadata": {},
   "source": [
    "#### Reducing\n",
    "\n",
    "That's it! \n",
    "\n",
    "This work of smashing all these values into one value is known as *reducing*\n",
    "\n",
    "If you want to have a \"reducing function\" you just turn this into a function `combine()`"
   ]
  },
  {
   "cell_type": "code",
   "execution_count": 12,
   "metadata": {},
   "outputs": [
    {
     "name": "stdout",
     "output_type": "stream",
     "text": [
      "12\n"
     ]
    }
   ],
   "source": [
    "def combine(total, item): \n",
    "    total = total + len(item['words'])\n",
    "    return total\n",
    "\n",
    "\n",
    "##Looping Option: \n",
    "##The \"easy\" way\n",
    "count = 0\n",
    "for tweet in tweets: \n",
    "    count = combine(count, tweet)\n",
    "print(count)\n"
   ]
  },
  {
   "cell_type": "code",
   "execution_count": 18,
   "metadata": {},
   "outputs": [
    {
     "name": "stdout",
     "output_type": "stream",
     "text": [
      "12\n"
     ]
    }
   ],
   "source": [
    "##Reducing Function Option: \n",
    "#The \"hard\" (but efficient) way: \n",
    "\n",
    "##Or just use built in reduce function\n",
    "\n",
    "#remember these three lines? \n",
    "    # count = 0\n",
    "    # for tweet in tweets: \n",
    "    #     count = combine(count, tweet)\n",
    "    \n",
    "#You can cut them down to one!\n",
    "\n",
    "\n",
    "##Recall: reduce(function_to_call, list_to_apply_function_to, optional_starting_value)\n",
    "from functools import reduce\n",
    "\n",
    "reduced_count = reduce(combine, tweets, 0) #0 is the starting point, equivalent to count = 0\n",
    "\n",
    "print(reduced_count)"
   ]
  },
  {
   "cell_type": "markdown",
   "metadata": {},
   "source": [
    "## Which Hashtags are happy? "
   ]
  },
  {
   "cell_type": "markdown",
   "metadata": {},
   "source": [
    "How would you do that conceptually? \n",
    "\n",
    "* Look at all of your tweets\n",
    "* What are the emotions associated with this tweet? \n",
    "* If the tweet "
   ]
  }
 ],
 "metadata": {
  "kernelspec": {
   "display_name": "Python 3",
   "language": "python",
   "name": "python3"
  },
  "language_info": {
   "codemirror_mode": {
    "name": "ipython",
    "version": 3
   },
   "file_extension": ".py",
   "mimetype": "text/x-python",
   "name": "python",
   "nbconvert_exporter": "python",
   "pygments_lexer": "ipython3",
   "version": "3.7.1"
  }
 },
 "nbformat": 4,
 "nbformat_minor": 2
}
